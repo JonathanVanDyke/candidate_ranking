{
 "cells": [
  {
   "cell_type": "markdown",
   "metadata": {},
   "source": [
    "# Imports"
   ]
  },
  {
   "cell_type": "code",
   "execution_count": 1,
   "metadata": {},
   "outputs": [],
   "source": [
    "import math\n",
    "import pandas as pd\n",
    "from pandas import DataFrame\n",
    "import matplotlib.pyplot as plt\n",
    "\n",
    "from sklearn.linear_model import LinearRegression"
   ]
  },
  {
   "cell_type": "code",
   "execution_count": 2,
   "metadata": {},
   "outputs": [],
   "source": [
    "data = pd.read_csv('score-records.csv')\n",
    "companies = pd.read_csv('companies.csv')"
   ]
  },
  {
   "cell_type": "markdown",
   "metadata": {},
   "source": [
    "# Objective\n",
    "We want to create an app for benchmarking an engineer's coding and communication skills against other engineers that work at similar companies and with the same title (e.g. Junior Engineer)"
   ]
  },
  {
   "cell_type": "markdown",
   "metadata": {},
   "source": [
    "# Instructions\n",
    "1. Write a function that takes a candidate_id and returns their percentile for their coding and commmunication score compared to other candidates at the same title and at similar companies.\n",
    "2. Write a React app that allows a user to enter their candidate id and see their percentiles.\n",
    "3. Please add automated tests as you see fit."
   ]
  },
  {
   "cell_type": "markdown",
   "metadata": {},
   "source": [
    "# Data\n",
    "- `score-records.csv` contains the coding and communication scores for all of the users in our sample dataset (https://s3.amazonaws.com/simple-fractal-recruiting/score-records.csv)\n",
    "- `companies.csv` contains the list of firms along with their `fractal_index` (https://s3.amazonaws.com/simple-fractal-recruiting/companies.csv)"
   ]
  },
  {
   "cell_type": "markdown",
   "metadata": {},
   "source": [
    "# Definitions\n",
    "- communication_score: a measurement of the candidate's ability to communicate\n",
    "- coding_score: a measurement of the candidate's technical ability\n",
    "- title: the role that the candidate performs at their company, e.g. Senior Engineer"
   ]
  },
  {
   "cell_type": "markdown",
   "metadata": {},
   "source": [
    "# Data Exploration"
   ]
  },
  {
   "cell_type": "code",
   "execution_count": 3,
   "metadata": {},
   "outputs": [
    {
     "data": {
      "text/html": [
       "<div>\n",
       "<style scoped>\n",
       "    .dataframe tbody tr th:only-of-type {\n",
       "        vertical-align: middle;\n",
       "    }\n",
       "\n",
       "    .dataframe tbody tr th {\n",
       "        vertical-align: top;\n",
       "    }\n",
       "\n",
       "    .dataframe thead th {\n",
       "        text-align: right;\n",
       "    }\n",
       "</style>\n",
       "<table border=\"1\" class=\"dataframe\">\n",
       "  <thead>\n",
       "    <tr style=\"text-align: right;\">\n",
       "      <th></th>\n",
       "      <th>candidate_id</th>\n",
       "      <th>communication_score</th>\n",
       "      <th>coding_score</th>\n",
       "      <th>title</th>\n",
       "      <th>company_id</th>\n",
       "    </tr>\n",
       "  </thead>\n",
       "  <tbody>\n",
       "    <tr>\n",
       "      <th>0</th>\n",
       "      <td>889</td>\n",
       "      <td>114028</td>\n",
       "      <td>180944</td>\n",
       "      <td>Engineer</td>\n",
       "      <td>2</td>\n",
       "    </tr>\n",
       "    <tr>\n",
       "      <th>1</th>\n",
       "      <td>890</td>\n",
       "      <td>62734</td>\n",
       "      <td>64000</td>\n",
       "      <td>Engineer</td>\n",
       "      <td>2</td>\n",
       "    </tr>\n",
       "    <tr>\n",
       "      <th>2</th>\n",
       "      <td>891</td>\n",
       "      <td>167656</td>\n",
       "      <td>231216</td>\n",
       "      <td>Engineer</td>\n",
       "      <td>2</td>\n",
       "    </tr>\n",
       "    <tr>\n",
       "      <th>3</th>\n",
       "      <td>892</td>\n",
       "      <td>163198</td>\n",
       "      <td>202131</td>\n",
       "      <td>Engineer</td>\n",
       "      <td>2</td>\n",
       "    </tr>\n",
       "    <tr>\n",
       "      <th>4</th>\n",
       "      <td>893</td>\n",
       "      <td>109561</td>\n",
       "      <td>137014</td>\n",
       "      <td>Engineer</td>\n",
       "      <td>2</td>\n",
       "    </tr>\n",
       "  </tbody>\n",
       "</table>\n",
       "</div>"
      ],
      "text/plain": [
       "   candidate_id  communication_score  coding_score     title  company_id\n",
       "0           889               114028        180944  Engineer           2\n",
       "1           890                62734         64000  Engineer           2\n",
       "2           891               167656        231216  Engineer           2\n",
       "3           892               163198        202131  Engineer           2\n",
       "4           893               109561        137014  Engineer           2"
      ]
     },
     "execution_count": 3,
     "metadata": {},
     "output_type": "execute_result"
    }
   ],
   "source": [
    "data.head()"
   ]
  },
  {
   "cell_type": "code",
   "execution_count": 4,
   "metadata": {},
   "outputs": [
    {
     "data": {
      "text/html": [
       "<div>\n",
       "<style scoped>\n",
       "    .dataframe tbody tr th:only-of-type {\n",
       "        vertical-align: middle;\n",
       "    }\n",
       "\n",
       "    .dataframe tbody tr th {\n",
       "        vertical-align: top;\n",
       "    }\n",
       "\n",
       "    .dataframe thead th {\n",
       "        text-align: right;\n",
       "    }\n",
       "</style>\n",
       "<table border=\"1\" class=\"dataframe\">\n",
       "  <thead>\n",
       "    <tr style=\"text-align: right;\">\n",
       "      <th></th>\n",
       "      <th>candidate_id</th>\n",
       "      <th>communication_score</th>\n",
       "      <th>coding_score</th>\n",
       "      <th>title</th>\n",
       "      <th>company_id</th>\n",
       "    </tr>\n",
       "  </thead>\n",
       "  <tbody>\n",
       "    <tr>\n",
       "      <th>54</th>\n",
       "      <td>943</td>\n",
       "      <td>80593</td>\n",
       "      <td>155505</td>\n",
       "      <td>Engineer</td>\n",
       "      <td>5</td>\n",
       "    </tr>\n",
       "    <tr>\n",
       "      <th>55</th>\n",
       "      <td>944</td>\n",
       "      <td>95437</td>\n",
       "      <td>122643</td>\n",
       "      <td>Engineer</td>\n",
       "      <td>5</td>\n",
       "    </tr>\n",
       "    <tr>\n",
       "      <th>56</th>\n",
       "      <td>945</td>\n",
       "      <td>114747</td>\n",
       "      <td>148033</td>\n",
       "      <td>Engineer</td>\n",
       "      <td>5</td>\n",
       "    </tr>\n",
       "    <tr>\n",
       "      <th>57</th>\n",
       "      <td>946</td>\n",
       "      <td>74387</td>\n",
       "      <td>134410</td>\n",
       "      <td>Engineer</td>\n",
       "      <td>5</td>\n",
       "    </tr>\n",
       "    <tr>\n",
       "      <th>58</th>\n",
       "      <td>947</td>\n",
       "      <td>85180</td>\n",
       "      <td>133854</td>\n",
       "      <td>Engineer</td>\n",
       "      <td>5</td>\n",
       "    </tr>\n",
       "  </tbody>\n",
       "</table>\n",
       "</div>"
      ],
      "text/plain": [
       "    candidate_id  communication_score  coding_score     title  company_id\n",
       "54           943                80593        155505  Engineer           5\n",
       "55           944                95437        122643  Engineer           5\n",
       "56           945               114747        148033  Engineer           5\n",
       "57           946                74387        134410  Engineer           5\n",
       "58           947                85180        133854  Engineer           5"
      ]
     },
     "execution_count": 4,
     "metadata": {},
     "output_type": "execute_result"
    }
   ],
   "source": [
    "data.tail()"
   ]
  },
  {
   "cell_type": "code",
   "execution_count": 5,
   "metadata": {},
   "outputs": [
    {
     "data": {
      "text/plain": [
       "pandas.core.frame.DataFrame"
      ]
     },
     "execution_count": 5,
     "metadata": {},
     "output_type": "execute_result"
    }
   ],
   "source": [
    "type(data)"
   ]
  },
  {
   "cell_type": "code",
   "execution_count": 6,
   "metadata": {},
   "outputs": [
    {
     "data": {
      "text/plain": [
       "candidate_id           59\n",
       "communication_score    59\n",
       "coding_score           59\n",
       "title                  59\n",
       "company_id             59\n",
       "dtype: int64"
      ]
     },
     "execution_count": 6,
     "metadata": {},
     "output_type": "execute_result"
    }
   ],
   "source": [
    "data.count()"
   ]
  },
  {
   "cell_type": "markdown",
   "metadata": {},
   "source": [
    "## Data Cleaning - Checking for Nulls"
   ]
  },
  {
   "cell_type": "code",
   "execution_count": 7,
   "metadata": {},
   "outputs": [
    {
     "data": {
      "text/plain": [
       "candidate_id           False\n",
       "communication_score    False\n",
       "coding_score           False\n",
       "title                  False\n",
       "company_id             False\n",
       "dtype: bool"
      ]
     },
     "execution_count": 7,
     "metadata": {},
     "output_type": "execute_result"
    }
   ],
   "source": [
    "pd.isnull(data).any()"
   ]
  },
  {
   "cell_type": "code",
   "execution_count": 8,
   "metadata": {},
   "outputs": [
    {
     "name": "stdout",
     "output_type": "stream",
     "text": [
      "<class 'pandas.core.frame.DataFrame'>\n",
      "RangeIndex: 59 entries, 0 to 58\n",
      "Data columns (total 5 columns):\n",
      "candidate_id           59 non-null int64\n",
      "communication_score    59 non-null int64\n",
      "coding_score           59 non-null int64\n",
      "title                  59 non-null object\n",
      "company_id             59 non-null int64\n",
      "dtypes: int64(4), object(1)\n",
      "memory usage: 2.4+ KB\n"
     ]
    }
   ],
   "source": [
    "data.info()"
   ]
  },
  {
   "cell_type": "code",
   "execution_count": 9,
   "metadata": {},
   "outputs": [
    {
     "name": "stdout",
     "output_type": "stream",
     "text": [
      "<class 'pandas.core.frame.DataFrame'>\n",
      "RangeIndex: 5 entries, 0 to 4\n",
      "Data columns (total 2 columns):\n",
      "company_id       5 non-null int64\n",
      "fractal_index    5 non-null float64\n",
      "dtypes: float64(1), int64(1)\n",
      "memory usage: 208.0 bytes\n"
     ]
    }
   ],
   "source": [
    "companies.info()"
   ]
  },
  {
   "cell_type": "markdown",
   "metadata": {},
   "source": [
    "## Data Visualization"
   ]
  },
  {
   "cell_type": "code",
   "execution_count": 10,
   "metadata": {},
   "outputs": [
    {
     "data": {
      "image/png": "[encoded data removed]",
      "text/plain": [
       "<Figure size 720x432 with 1 Axes>"
      ]
     },
     "metadata": {
      "needs_background": "light"
     },
     "output_type": "display_data"
    }
   ],
   "source": [
    "plt.figure(figsize=(10, 6))\n",
    "plt.hist(data['coding_score'], bins=50, ec='black', color='#2196f3')\n",
    "plt.title('Coding Scores vs Nr. of Candidates')\n",
    "plt.xlabel('Coding Scores')\n",
    "plt.ylabel('Nr. of Candidates')\n",
    "plt.show()"
   ]
  },
  {
   "cell_type": "code",
   "execution_count": 11,
   "metadata": {},
   "outputs": [
    {
     "data": {
      "image/png": "[encoded data removed]",
      "text/plain": [
       "<Figure size 720x432 with 1 Axes>"
      ]
     },
     "metadata": {
      "needs_background": "light"
     },
     "output_type": "display_data"
    }
   ],
   "source": [
    "plt.figure(figsize=(10, 6))\n",
    "plt.hist(data['communication_score'], bins=50, ec='black', color='#2196f3')\n",
    "plt.title('Communication Scores vs Nr. of Candidates')\n",
    "plt.xlabel('Communication Scores')\n",
    "plt.ylabel('Nr. of Candidates')\n",
    "plt.show()"
   ]
  },
  {
   "cell_type": "markdown",
   "metadata": {},
   "source": [
    "# Data Exploration - Companies"
   ]
  },
  {
   "cell_type": "code",
   "execution_count": 12,
   "metadata": {},
   "outputs": [
    {
     "data": {
      "text/html": [
       "<div>\n",
       "<style scoped>\n",
       "    .dataframe tbody tr th:only-of-type {\n",
       "        vertical-align: middle;\n",
       "    }\n",
       "\n",
       "    .dataframe tbody tr th {\n",
       "        vertical-align: top;\n",
       "    }\n",
       "\n",
       "    .dataframe thead th {\n",
       "        text-align: right;\n",
       "    }\n",
       "</style>\n",
       "<table border=\"1\" class=\"dataframe\">\n",
       "  <thead>\n",
       "    <tr style=\"text-align: right;\">\n",
       "      <th></th>\n",
       "      <th>company_id</th>\n",
       "      <th>fractal_index</th>\n",
       "    </tr>\n",
       "  </thead>\n",
       "  <tbody>\n",
       "    <tr>\n",
       "      <th>0</th>\n",
       "      <td>1</td>\n",
       "      <td>0.678</td>\n",
       "    </tr>\n",
       "    <tr>\n",
       "      <th>1</th>\n",
       "      <td>2</td>\n",
       "      <td>0.782</td>\n",
       "    </tr>\n",
       "    <tr>\n",
       "      <th>2</th>\n",
       "      <td>3</td>\n",
       "      <td>0.795</td>\n",
       "    </tr>\n",
       "    <tr>\n",
       "      <th>3</th>\n",
       "      <td>4</td>\n",
       "      <td>0.724</td>\n",
       "    </tr>\n",
       "    <tr>\n",
       "      <th>4</th>\n",
       "      <td>5</td>\n",
       "      <td>0.523</td>\n",
       "    </tr>\n",
       "  </tbody>\n",
       "</table>\n",
       "</div>"
      ],
      "text/plain": [
       "   company_id  fractal_index\n",
       "0           1          0.678\n",
       "1           2          0.782\n",
       "2           3          0.795\n",
       "3           4          0.724\n",
       "4           5          0.523"
      ]
     },
     "execution_count": 12,
     "metadata": {},
     "output_type": "execute_result"
    }
   ],
   "source": [
    "companies"
   ]
  },
  {
   "cell_type": "code",
   "execution_count": 13,
   "metadata": {},
   "outputs": [
    {
     "data": {
      "text/html": [
       "<div>\n",
       "<style scoped>\n",
       "    .dataframe tbody tr th:only-of-type {\n",
       "        vertical-align: middle;\n",
       "    }\n",
       "\n",
       "    .dataframe tbody tr th {\n",
       "        vertical-align: top;\n",
       "    }\n",
       "\n",
       "    .dataframe thead th {\n",
       "        text-align: right;\n",
       "    }\n",
       "</style>\n",
       "<table border=\"1\" class=\"dataframe\">\n",
       "  <thead>\n",
       "    <tr style=\"text-align: right;\">\n",
       "      <th></th>\n",
       "      <th>company_id</th>\n",
       "      <th>fractal_index</th>\n",
       "    </tr>\n",
       "  </thead>\n",
       "  <tbody>\n",
       "    <tr>\n",
       "      <th>1</th>\n",
       "      <td>2</td>\n",
       "      <td>0.782</td>\n",
       "    </tr>\n",
       "  </tbody>\n",
       "</table>\n",
       "</div>"
      ],
      "text/plain": [
       "   company_id  fractal_index\n",
       "1           2          0.782"
      ]
     },
     "execution_count": 13,
     "metadata": {},
     "output_type": "execute_result"
    }
   ],
   "source": [
    "companies.loc[companies['company_id'] == 2]"
   ]
  },
  {
   "cell_type": "code",
   "execution_count": 14,
   "metadata": {},
   "outputs": [],
   "source": [
    "c1 = companies.loc[companies['company_id'] == 2]"
   ]
  },
  {
   "cell_type": "code",
   "execution_count": 15,
   "metadata": {},
   "outputs": [
    {
     "data": {
      "text/plain": [
       "0.782"
      ]
     },
     "execution_count": 15,
     "metadata": {},
     "output_type": "execute_result"
    }
   ],
   "source": [
    "c1['fractal_index'].values[0]"
   ]
  },
  {
   "cell_type": "markdown",
   "metadata": {},
   "source": [
    "# Python Formulas"
   ]
  },
  {
   "cell_type": "markdown",
   "metadata": {},
   "source": [
    "## Similarity Method"
   ]
  },
  {
   "cell_type": "code",
   "execution_count": 69,
   "metadata": {},
   "outputs": [],
   "source": [
    "def are_similar(company_1, company_2):\n",
    "    c1 = companies.loc[companies['company_id'] == company_1]\n",
    "    c2 = companies.loc[companies['company_id'] == company_2]\n",
    "    return math.fabs(c1['fractal_index'].values[0] - c2['fractal_index'].values[0]) < 0.15"
   ]
  },
  {
   "cell_type": "code",
   "execution_count": 17,
   "metadata": {},
   "outputs": [
    {
     "data": {
      "text/plain": [
       "True"
      ]
     },
     "execution_count": 17,
     "metadata": {},
     "output_type": "execute_result"
    }
   ],
   "source": [
    "are_similar(2, 3)"
   ]
  },
  {
   "cell_type": "markdown",
   "metadata": {},
   "source": [
    "## Candidate Performance"
   ]
  },
  {
   "cell_type": "markdown",
   "metadata": {},
   "source": [
    "### Percentile rank formula\n",
    "\n",
    "$ Percental = \\frac{count below}{total count} * 100 $"
   ]
  },
  {
   "cell_type": "code",
   "execution_count": 102,
   "metadata": {},
   "outputs": [
    {
     "name": "stdout",
     "output_type": "stream",
     "text": [
      "coding_rank:  19.0\n",
      "Candidate 893 is in the 40.0% coding percentile.\n",
      "comm rank:  21.0\n",
      "Candidate 893 is in the 44.0% communication percentile.\n"
     ]
    }
   ],
   "source": [
    "# filter data to peers with sorted scores\n",
    "\n",
    "# slice data by title\n",
    "def slice_by_title_and_company(title, company_id):\n",
    "    title_mask = data['title'] == title\n",
    "    peers = data[title_mask]\n",
    "    to_drop = []\n",
    "    \n",
    "    for i in range(len(peers)):\n",
    "        if not are_similar(company_id, peers.values[i][4]):\n",
    "            to_drop.append(i)\n",
    "\n",
    "    return peers\n",
    "\n",
    "# add rank col to data\n",
    "def rank_col_by_name(data, filtered_set, col_name, rank_col):\n",
    "    data[col_name] = filtered_set[rank_col].rank(ascending=True)\n",
    "    return data\n",
    "    \n",
    "\n",
    "# get percentiles by id\n",
    "def candidate_code_percentile(candidate_id):\n",
    "    candidate_profile = data.loc[data['candidate_id'] == candidate_id]\n",
    "\n",
    "    company_id = candidate_profile['company_id'].values[0]\n",
    "    \n",
    "    \n",
    "    candidate_title = candidate_profile['title'].values[0]\n",
    "    peers = slice_by_title_and_company(candidate_title, company_id)\n",
    "    col = rank_col_by_name(\n",
    "        data=data, \n",
    "        filtered_set=peers, \n",
    "        col_name='coding_rank', \n",
    "        rank_col='coding_score'\n",
    "    )\n",
    "\n",
    "    candidate_rank = candidate_profile['coding_rank'].values[0]\n",
    "    print(f'coding_rank: ', candidate_rank)\n",
    "    num_ranked_below = (candidate_rank - 1)\n",
    "    total_num_ranked = data['coding_rank'].max()\n",
    "    \n",
    "    percentile = round((num_ranked_below / total_num_ranked) * 100, 2)\n",
    "    return percentile\n",
    "\n",
    "def candidate_communication_percentile(candidate_id):\n",
    "    candidate_profile = data.loc[data['candidate_id'] == candidate_id]\n",
    "    \n",
    "    company_id = candidate_profile['company_id'].values[0]\n",
    "    \n",
    "    candidate_title = candidate_profile['title'].values[0]\n",
    "    peers = slice_by_title_and_company(candidate_title, company_id)\n",
    "    col = rank_col_by_name(\n",
    "        data=data, \n",
    "        filtered_set=peers, \n",
    "        col_name='communication_rank', \n",
    "        rank_col='communication_score'\n",
    "    )\n",
    "    \n",
    "    candidate_rank = candidate_profile['communication_rank'].values[0]\n",
    "    print(f'comm rank: ', candidate_rank)\n",
    "    num_ranked_below = (candidate_rank - 1)\n",
    "    total_num_ranked = data['communication_rank'].max()\n",
    "    \n",
    "    percentile = round((num_ranked_below / total_num_ranked) * 100, 0)\n",
    "    return percentile\n",
    "\n",
    "candidate_1 = 893\n",
    "print(f'Candidate {candidate_1} is in the {candidate_code_percentile(893)}% coding percentile.')\n",
    "print(f'Candidate {candidate_1} is in the {candidate_communication_percentile(893)}% communication percentile.')"
   ]
  },
  {
   "cell_type": "code",
   "execution_count": 104,
   "metadata": {},
   "outputs": [],
   "source": [
    "def candidate_performance(candidate_id):\n",
    "    code_percentile = candidate_code_percentile(candidate_id)\n",
    "    communication_percentile = candidate_communication_percentile(candidate_id)\n",
    "    \n",
    "    print(f'Candidate {candidate_id} is in the {code_percentile}% coding percentile.')\n",
    "    print(f'Candidate {candidate_id} is in the {communication_percentile}% communication percentile.')\n",
    "    return({'code_percentile': code_percentile, 'communication_percentile': communication_percentile})\n",
    "    "
   ]
  },
  {
   "cell_type": "markdown",
   "metadata": {},
   "source": [
    "# Input Candidate Id:"
   ]
  },
  {
   "cell_type": "code",
   "execution_count": 105,
   "metadata": {},
   "outputs": [
    {
     "name": "stdout",
     "output_type": "stream",
     "text": [
      "coding_rank:  30.0\n",
      "comm rank:  32.0\n",
      "Candidate 930 is in the 64.44% coding percentile.\n",
      "Candidate 930 is in the 69.0% communication percentile.\n"
     ]
    },
    {
     "data": {
      "text/plain": [
       "{'code_percentile': 64.44, 'communication_percentile': 69.0}"
      ]
     },
     "execution_count": 105,
     "metadata": {},
     "output_type": "execute_result"
    }
   ],
   "source": [
    "candidate_performance(930)"
   ]
  },
  {
   "cell_type": "code",
   "execution_count": null,
   "metadata": {},
   "outputs": [],
   "source": []
  }
 ],
 "metadata": {
  "kernelspec": {
   "display_name": "Python 3",
   "language": "python",
   "name": "python3"
  },
  "language_info": {
   "codemirror_mode": {
    "name": "ipython",
    "version": 3
   },
   "file_extension": ".py",
   "mimetype": "text/x-python",
   "name": "python",
   "nbconvert_exporter": "python",
   "pygments_lexer": "ipython3",
   "version": "3.7.4"
  }
 },
 "nbformat": 4,
 "nbformat_minor": 2
}
